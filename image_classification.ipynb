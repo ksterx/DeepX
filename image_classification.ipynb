{
 "cells": [
  {
   "attachments": {},
   "cell_type": "markdown",
   "metadata": {},
   "source": [
    "# Image Classification Tasks"
   ]
  },
  {
   "cell_type": "code",
   "execution_count": 1,
   "metadata": {},
   "outputs": [
    {
     "name": "stderr",
     "output_type": "stream",
     "text": [
      "2023-06-23 23:45:37.186906: I tensorflow/core/platform/cpu_feature_guard.cc:193] This TensorFlow binary is optimized with oneAPI Deep Neural Network Library (oneDNN) to use the following CPU instructions in performance-critical operations:  AVX2 AVX_VNNI FMA\n",
      "To enable them in other operations, rebuild TensorFlow with the appropriate compiler flags.\n",
      "2023-06-23 23:45:37.265434: I tensorflow/core/util/port.cc:104] oneDNN custom operations are on. You may see slightly different numerical results due to floating-point round-off errors from different computation orders. To turn them off, set the environment variable `TF_ENABLE_ONEDNN_OPTS=0`.\n",
      "2023-06-23 23:45:37.616048: W tensorflow/compiler/xla/stream_executor/platform/default/dso_loader.cc:64] Could not load dynamic library 'libnvinfer.so.7'; dlerror: libnvinfer.so.7: cannot open shared object file: No such file or directory; LD_LIBRARY_PATH: /usr/local/cuda-11.7/lib64:/opt/ros/humble/opt/rviz_ogre_vendor/lib:/opt/ros/humble/lib/x86_64-linux-gnu:/opt/ros/humble/lib:/usr/local/cuda-11.7/lib64:\n",
      "2023-06-23 23:45:37.616099: W tensorflow/compiler/xla/stream_executor/platform/default/dso_loader.cc:64] Could not load dynamic library 'libnvinfer_plugin.so.7'; dlerror: libnvinfer_plugin.so.7: cannot open shared object file: No such file or directory; LD_LIBRARY_PATH: /usr/local/cuda-11.7/lib64:/opt/ros/humble/opt/rviz_ogre_vendor/lib:/opt/ros/humble/lib/x86_64-linux-gnu:/opt/ros/humble/lib:/usr/local/cuda-11.7/lib64:\n",
      "2023-06-23 23:45:37.616102: W tensorflow/compiler/tf2tensorrt/utils/py_utils.cc:38] TF-TRT Warning: Cannot dlopen some TensorRT libraries. If you would like to use Nvidia GPU with TensorRT, please make sure the missing libraries mentioned above are installed properly.\n"
     ]
    }
   ],
   "source": [
    "from vision.nn.core.residual import ResNet50, ResNet101, ResNet152\n",
    "import lightning as L\n",
    "import torch\n",
    "from torchvision.datasets import MNIST, CIFAR10, CIFAR100\n",
    "from torchvision import transforms\n",
    "from torchmetrics import Accuracy\n",
    "from torch.utils.data import DataLoader, random_split\n",
    "from lightning.pytorch.loggers import TensorBoardLogger\n",
    "from lightning.pytorch.callbacks import EarlyStopping, ModelSummary\n"
   ]
  },
  {
   "cell_type": "code",
   "execution_count": 2,
   "metadata": {},
   "outputs": [],
   "source": [
    "class ImageClassificationModel(L.LightningModule):\n",
    "    DATA_DIR = \"./data/\"\n",
    "    TRAIN_RATIO = 0.9\n",
    "    NUM_CLASSES = 100\n",
    "    NUM_CHANNELS = 3\n",
    "    DATASETS = {\n",
    "        \"mnist\": {\"class\": MNIST, \"num_classes\": 10, \"num_channels\": 1},\n",
    "        \"cifar10\": {\"class\": CIFAR10, \"num_classes\": 10, \"num_channels\": 3},\n",
    "        \"cifar100\": {\"class\": CIFAR100, \"num_classes\": 100, \"num_channels\": 3},\n",
    "    }\n",
    "    MODELS = {\"resnet50\": ResNet50, \"resnet101\": ResNet101, \"resnet152\": ResNet152}\n",
    "\n",
    "    def __init__(self, model_name: str, dataset_name: str, batch_size=32):\n",
    "        super().__init__()\n",
    "        self.dataset = self.DATASETS[dataset_name]\n",
    "        self.model = self.MODELS[model_name](\n",
    "            num_classes=self.dataset[\"num_classes\"],\n",
    "            in_channels=self.dataset[\"num_channels\"],\n",
    "        )\n",
    "        self.dataset_name = dataset_name\n",
    "        self.batch_size = batch_size\n",
    "\n",
    "        self.transform = transforms.Compose(\n",
    "            [\n",
    "                transforms.ToTensor(),\n",
    "                transforms.Normalize((0.1307,), (0.3081,)),\n",
    "            ]\n",
    "        )\n",
    "\n",
    "        self.loss_fn = torch.nn.CrossEntropyLoss()\n",
    "\n",
    "        self.train_accuracy = Accuracy(task=\"multiclass\", num_classes=self.NUM_CLASSES)\n",
    "        self.val_accuracy = Accuracy(task=\"multiclass\", num_classes=self.NUM_CLASSES)\n",
    "        self.test_accuracy = Accuracy(task=\"multiclass\", num_classes=self.NUM_CLASSES)\n",
    "\n",
    "    def forward(self, x):\n",
    "        return self.model(x)\n",
    "\n",
    "    def training_step(self, batch, batch_idx):\n",
    "        x, y = batch\n",
    "        logits = self(x)\n",
    "        loss = self.loss_fn(logits, y)\n",
    "        preds = torch.argmax(logits, dim=1)\n",
    "        self.train_accuracy.update(preds, y)\n",
    "\n",
    "        self.log(\"train_loss\", loss)\n",
    "        self.log(\"train_acc\", self.train_accuracy)\n",
    "        return loss\n",
    "\n",
    "    def validation_step(self, batch, batch_idx):\n",
    "        x, y = batch\n",
    "        logits = self(x)\n",
    "        loss = torch.nn.functional.cross_entropy(logits, y)\n",
    "        preds = torch.argmax(logits, dim=1)\n",
    "        self.val_accuracy.update(preds, y)\n",
    "\n",
    "        self.log(\"val_loss\", loss, prog_bar=True)\n",
    "        self.log(\"val_acc\", self.val_accuracy, prog_bar=True)\n",
    "\n",
    "    def test_step(self, batch, batch_idx):\n",
    "        x, y = batch\n",
    "        logits = self(x)\n",
    "        loss = torch.nn.functional.cross_entropy(logits, y)\n",
    "        preds = torch.argmax(logits, dim=1)\n",
    "        self.test_accuracy.update(preds, y)\n",
    "\n",
    "        self.log(\"test_loss\", loss, prog_bar=True)\n",
    "        self.log(\"test_acc\", self.test_accuracy, prog_bar=True)\n",
    "\n",
    "    def configure_optimizers(self):\n",
    "        return torch.optim.Adam(self.parameters(), lr=1e-3)\n",
    "\n",
    "    def prepare_data(self):\n",
    "        # download\n",
    "        self.dataset[\"class\"](self.DATA_DIR, train=True, download=True)\n",
    "        self.dataset[\"class\"](self.DATA_DIR, train=False, download=True)\n",
    "\n",
    "    def setup(self, stage=None):\n",
    "        # Assign train/val datasets for use in dataloaders\n",
    "        if stage == \"fit\" or stage is None:\n",
    "            data_full = self.dataset[\"class\"](self.DATA_DIR, train=True, transform=self.transform)\n",
    "            len_train = int(len(data_full) * self.TRAIN_RATIO)\n",
    "            len_val = len(data_full) - len_train\n",
    "            self.data_train, self.data_val = random_split(data_full, [len_train, len_val])\n",
    "\n",
    "        # Assign test dataset for use in dataloader(s)\n",
    "        if stage == \"test\" or stage is None:\n",
    "            self.data_test = self.dataset[\"class\"](\n",
    "                self.DATA_DIR, train=False, transform=self.transform\n",
    "            )\n",
    "\n",
    "    def train_dataloader(self):\n",
    "        return DataLoader(self.data_train, batch_size=self.batch_size, num_workers=10)\n",
    "\n",
    "    def val_dataloader(self):\n",
    "        return DataLoader(self.data_val, batch_size=self.batch_size, num_workers=10)\n",
    "\n",
    "    def test_dataloader(self):\n",
    "        return DataLoader(self.data_test, batch_size=self.batch_size)"
   ]
  },
  {
   "cell_type": "code",
   "execution_count": 3,
   "metadata": {},
   "outputs": [],
   "source": [
    "def run(model_name, dataset_name, epochs=3, batch_size=32):\n",
    "    model = ImageClassificationModel(\n",
    "        model_name=model_name, dataset_name=dataset_name, batch_size=batch_size\n",
    "    )\n",
    "\n",
    "    trainer = L.Trainer(\n",
    "        max_epochs=epochs,\n",
    "        accelerator=\"auto\",\n",
    "        devices=1,\n",
    "        logger=TensorBoardLogger(f\"./experiments/{dataset_name}\", name=model_name),\n",
    "        callbacks=[EarlyStopping(monitor=\"val_loss\", patience=5), ModelSummary(max_depth=1)],\n",
    "    )\n",
    "\n",
    "    trainer.fit(model)\n",
    "    trainer.test()\n"
   ]
  },
  {
   "cell_type": "code",
   "execution_count": 4,
   "metadata": {},
   "outputs": [
    {
     "ename": "AttributeError",
     "evalue": "'ImageClassificationModel' object has no attribute 'data_train'",
     "output_type": "error",
     "traceback": [
      "\u001b[0;31m---------------------------------------------------------------------------\u001b[0m",
      "\u001b[0;31mAttributeError\u001b[0m                            Traceback (most recent call last)",
      "Cell \u001b[0;32mIn[4], line 4\u001b[0m\n\u001b[1;32m      1\u001b[0m model \u001b[39m=\u001b[39m ImageClassificationModel(\n\u001b[1;32m      2\u001b[0m     model_name\u001b[39m=\u001b[39m\u001b[39m\"\u001b[39m\u001b[39mresnet50\u001b[39m\u001b[39m\"\u001b[39m, dataset_name\u001b[39m=\u001b[39m\u001b[39m\"\u001b[39m\u001b[39mcifar100\u001b[39m\u001b[39m\"\u001b[39m, batch_size\u001b[39m=\u001b[39m\u001b[39m128\u001b[39m\n\u001b[1;32m      3\u001b[0m )\n\u001b[0;32m----> 4\u001b[0m dataloader \u001b[39m=\u001b[39m model\u001b[39m.\u001b[39;49mtrain_dataloader()\n",
      "Cell \u001b[0;32mIn[2], line 95\u001b[0m, in \u001b[0;36mImageClassificationModel.train_dataloader\u001b[0;34m(self)\u001b[0m\n\u001b[1;32m     94\u001b[0m \u001b[39mdef\u001b[39;00m \u001b[39mtrain_dataloader\u001b[39m(\u001b[39mself\u001b[39m):\n\u001b[0;32m---> 95\u001b[0m     \u001b[39mreturn\u001b[39;00m DataLoader(\u001b[39mself\u001b[39;49m\u001b[39m.\u001b[39;49mdata_train, batch_size\u001b[39m=\u001b[39m\u001b[39mself\u001b[39m\u001b[39m.\u001b[39mbatch_size, num_workers\u001b[39m=\u001b[39m\u001b[39m10\u001b[39m)\n",
      "File \u001b[0;32m~/.local/lib/python3.10/site-packages/torch/nn/modules/module.py:1614\u001b[0m, in \u001b[0;36mModule.__getattr__\u001b[0;34m(self, name)\u001b[0m\n\u001b[1;32m   1612\u001b[0m     \u001b[39mif\u001b[39;00m name \u001b[39min\u001b[39;00m modules:\n\u001b[1;32m   1613\u001b[0m         \u001b[39mreturn\u001b[39;00m modules[name]\n\u001b[0;32m-> 1614\u001b[0m \u001b[39mraise\u001b[39;00m \u001b[39mAttributeError\u001b[39;00m(\u001b[39m\"\u001b[39m\u001b[39m'\u001b[39m\u001b[39m{}\u001b[39;00m\u001b[39m'\u001b[39m\u001b[39m object has no attribute \u001b[39m\u001b[39m'\u001b[39m\u001b[39m{}\u001b[39;00m\u001b[39m'\u001b[39m\u001b[39m\"\u001b[39m\u001b[39m.\u001b[39mformat(\n\u001b[1;32m   1615\u001b[0m     \u001b[39mtype\u001b[39m(\u001b[39mself\u001b[39m)\u001b[39m.\u001b[39m\u001b[39m__name__\u001b[39m, name))\n",
      "\u001b[0;31mAttributeError\u001b[0m: 'ImageClassificationModel' object has no attribute 'data_train'"
     ]
    }
   ],
   "source": [
    "model = ImageClassificationModel(model_name=\"resnet50\", dataset_name=\"cifar100\", batch_size=128)\n",
    "dataloader = model.train_dataloader()\n"
   ]
  },
  {
   "cell_type": "code",
   "execution_count": null,
   "metadata": {},
   "outputs": [],
   "source": [
    "# model_names = [\"resnet50\", \"resnet101\", \"resnet152\"]\n",
    "# for model_name in model_names:\n",
    "#     run(model_name, \"cifar100\", epochs=100, batch_size=128)\n",
    "run(\"resnet50\", \"cifar100\", epochs=100, batch_size=128)\n"
   ]
  },
  {
   "cell_type": "code",
   "execution_count": null,
   "metadata": {},
   "outputs": [],
   "source": []
  }
 ],
 "metadata": {
  "kernelspec": {
   "display_name": "Python 3 (ipykernel)",
   "language": "python",
   "name": "python3"
  },
  "language_info": {
   "codemirror_mode": {
    "name": "ipython",
    "version": 3
   },
   "file_extension": ".py",
   "mimetype": "text/x-python",
   "name": "python",
   "nbconvert_exporter": "python",
   "pygments_lexer": "ipython3",
   "version": "3.10.9"
  }
 },
 "nbformat": 4,
 "nbformat_minor": 4
}
