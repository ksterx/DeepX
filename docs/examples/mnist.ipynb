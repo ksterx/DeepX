{
 "cells": [
  {
   "cell_type": "code",
   "execution_count": 1,
   "metadata": {},
   "outputs": [],
   "source": [
    "from deepx.tasks.classification import train\n",
    "from deepx.nn import MLP"
   ]
  },
  {
   "cell_type": "code",
   "execution_count": 2,
   "metadata": {},
   "outputs": [],
   "source": [
    "model = MLP([64, 128, 10])"
   ]
  },
  {
   "cell_type": "code",
   "execution_count": 3,
   "metadata": {},
   "outputs": [
    {
     "name": "stderr",
     "output_type": "stream",
     "text": [
      "Trainer already configured with model summary callbacks: [<class 'lightning.pytorch.callbacks.model_summary.ModelSummary'>]. Skipping setting a default `ModelSummary` callback.\n",
      "GPU available: False, used: False\n",
      "TPU available: False, using: 0 TPU cores\n",
      "IPU available: False, using: 0 IPUs\n",
      "HPU available: False, using: 0 HPUs\n"
     ]
    },
    {
     "name": "stdout",
     "output_type": "stream",
     "text": [
      "Root directory: C:\\Users\\tomkj\\Development\\Vision\n"
     ]
    },
    {
     "name": "stderr",
     "output_type": "stream",
     "text": [
      "Missing logger folder: ..\\..\\experiments\\tests\\mnist\\MLP\n",
      "\n",
      "  | Name             | Type               | Params\n",
      "--------------------------------------------------------\n",
      "0 | model            | MLP                | 9.6 K \n",
      "1 | model.layers     | ModuleList         | 9.6 K \n",
      "2 | model.layers.0   | Flatten            | 0     \n",
      "3 | model.layers.1   | Linear             | 8.3 K \n",
      "4 | model.layers.2   | Linear             | 1.3 K \n",
      "5 | model.activation | ReLU               | 0     \n",
      "6 | loss_fn          | CrossEntropyLoss   | 0     \n",
      "7 | train_accuracy   | MulticlassAccuracy | 0     \n",
      "8 | val_accuracy     | MulticlassAccuracy | 0     \n",
      "9 | test_accuracy    | MulticlassAccuracy | 0     \n",
      "--------------------------------------------------------\n",
      "9.6 K     Trainable params\n",
      "0         Non-trainable params\n",
      "9.6 K     Total params\n",
      "0.038     Total estimated model params size (MB)\n"
     ]
    },
    {
     "data": {
      "application/vnd.jupyter.widget-view+json": {
       "model_id": "55b8935689fe4d338234823e16634a79",
       "version_major": 2,
       "version_minor": 0
      },
      "text/plain": [
       "Sanity Checking: 0it [00:00, ?it/s]"
      ]
     },
     "metadata": {},
     "output_type": "display_data"
    },
    {
     "name": "stderr",
     "output_type": "stream",
     "text": [
      "c:\\Users\\tomkj\\miniconda3\\envs\\ai\\lib\\site-packages\\lightning\\pytorch\\trainer\\connectors\\data_connector.py:224: PossibleUserWarning: The dataloader, val_dataloader 0, does not have many workers which may be a bottleneck. Consider increasing the value of the `num_workers` argument` (try 20 which is the number of cpus on this machine) in the `DataLoader` init to improve performance.\n",
      "  rank_zero_warn(\n",
      "c:\\Users\\tomkj\\miniconda3\\envs\\ai\\lib\\site-packages\\lightning\\pytorch\\trainer\\connectors\\data_connector.py:224: PossibleUserWarning: The dataloader, train_dataloader, does not have many workers which may be a bottleneck. Consider increasing the value of the `num_workers` argument` (try 20 which is the number of cpus on this machine) in the `DataLoader` init to improve performance.\n",
      "  rank_zero_warn(\n"
     ]
    },
    {
     "data": {
      "application/vnd.jupyter.widget-view+json": {
       "model_id": "9b84c8b25da44e52a58389a4d4c7f23f",
       "version_major": 2,
       "version_minor": 0
      },
      "text/plain": [
       "Training: 0it [00:00, ?it/s]"
      ]
     },
     "metadata": {},
     "output_type": "display_data"
    },
    {
     "name": "stderr",
     "output_type": "stream",
     "text": [
      "c:\\Users\\tomkj\\miniconda3\\envs\\ai\\lib\\site-packages\\lightning\\pytorch\\trainer\\call.py:48: UserWarning: Detected KeyboardInterrupt, attempting graceful shutdown...\n",
      "  rank_zero_warn(\"Detected KeyboardInterrupt, attempting graceful shutdown...\")\n"
     ]
    },
    {
     "ename": "ValueError",
     "evalue": "`.test(ckpt_path=\"best\")` is set but `ModelCheckpoint` is not configured to save the best model.",
     "output_type": "error",
     "traceback": [
      "\u001b[1;31m---------------------------------------------------------------------------\u001b[0m",
      "\u001b[1;31mValueError\u001b[0m                                Traceback (most recent call last)",
      "Cell \u001b[1;32mIn[3], line 1\u001b[0m\n\u001b[1;32m----> 1\u001b[0m train(model, \u001b[39m\"\u001b[39;49m\u001b[39mmnist\u001b[39;49m\u001b[39m\"\u001b[39;49m, root_dir\u001b[39m=\u001b[39;49m\u001b[39m\"\u001b[39;49m\u001b[39m../..\u001b[39;49m\u001b[39m\"\u001b[39;49m, is_test\u001b[39m=\u001b[39;49m\u001b[39mTrue\u001b[39;49;00m, max_depth\u001b[39m=\u001b[39;49m\u001b[39m-\u001b[39;49m\u001b[39m1\u001b[39;49m)\n",
      "File \u001b[1;32mc:\\users\\tomkj\\development\\vision\\vision\\tasks\\classification\\train.py:122\u001b[0m, in \u001b[0;36mtrain\u001b[1;34m(model, dataset_name, root_dir, epochs, batch_size, is_test, num_workers, lr, stopping_patience, max_depth)\u001b[0m\n\u001b[0;32m    109\u001b[0m trainer \u001b[39m=\u001b[39m Trainer(\n\u001b[0;32m    110\u001b[0m     max_epochs\u001b[39m=\u001b[39mepochs,\n\u001b[0;32m    111\u001b[0m     accelerator\u001b[39m=\u001b[39m\u001b[39m\"\u001b[39m\u001b[39mauto\u001b[39m\u001b[39m\"\u001b[39m,\n\u001b[1;32m   (...)\u001b[0m\n\u001b[0;32m    118\u001b[0m     ],\n\u001b[0;32m    119\u001b[0m )\n\u001b[0;32m    121\u001b[0m trainer\u001b[39m.\u001b[39mfit(model, datamodule\u001b[39m=\u001b[39mdatamodule)\n\u001b[1;32m--> 122\u001b[0m trainer\u001b[39m.\u001b[39;49mtest(ckpt_path\u001b[39m=\u001b[39;49m\u001b[39m\"\u001b[39;49m\u001b[39mbest\u001b[39;49m\u001b[39m\"\u001b[39;49m, datamodule\u001b[39m=\u001b[39;49mdatamodule)\n",
      "File \u001b[1;32mc:\\Users\\tomkj\\miniconda3\\envs\\ai\\lib\\site-packages\\lightning\\pytorch\\trainer\\trainer.py:794\u001b[0m, in \u001b[0;36mTrainer.test\u001b[1;34m(self, model, dataloaders, ckpt_path, verbose, datamodule)\u001b[0m\n\u001b[0;32m    792\u001b[0m     model \u001b[39m=\u001b[39m \u001b[39mself\u001b[39m\u001b[39m.\u001b[39m_maybe_unwrap_optimized(model)\n\u001b[0;32m    793\u001b[0m     \u001b[39mself\u001b[39m\u001b[39m.\u001b[39mstrategy\u001b[39m.\u001b[39m_lightning_module \u001b[39m=\u001b[39m model\n\u001b[1;32m--> 794\u001b[0m \u001b[39mreturn\u001b[39;00m call\u001b[39m.\u001b[39;49m_call_and_handle_interrupt(\n\u001b[0;32m    795\u001b[0m     \u001b[39mself\u001b[39;49m, \u001b[39mself\u001b[39;49m\u001b[39m.\u001b[39;49m_test_impl, model, dataloaders, ckpt_path, verbose, datamodule\n\u001b[0;32m    796\u001b[0m )\n",
      "File \u001b[1;32mc:\\Users\\tomkj\\miniconda3\\envs\\ai\\lib\\site-packages\\lightning\\pytorch\\trainer\\call.py:38\u001b[0m, in \u001b[0;36m_call_and_handle_interrupt\u001b[1;34m(trainer, trainer_fn, *args, **kwargs)\u001b[0m\n\u001b[0;32m     36\u001b[0m         \u001b[39mreturn\u001b[39;00m trainer\u001b[39m.\u001b[39mstrategy\u001b[39m.\u001b[39mlauncher\u001b[39m.\u001b[39mlaunch(trainer_fn, \u001b[39m*\u001b[39margs, trainer\u001b[39m=\u001b[39mtrainer, \u001b[39m*\u001b[39m\u001b[39m*\u001b[39mkwargs)\n\u001b[0;32m     37\u001b[0m     \u001b[39melse\u001b[39;00m:\n\u001b[1;32m---> 38\u001b[0m         \u001b[39mreturn\u001b[39;00m trainer_fn(\u001b[39m*\u001b[39margs, \u001b[39m*\u001b[39m\u001b[39m*\u001b[39mkwargs)\n\u001b[0;32m     40\u001b[0m \u001b[39mexcept\u001b[39;00m _TunerExitException:\n\u001b[0;32m     41\u001b[0m     trainer\u001b[39m.\u001b[39m_call_teardown_hook()\n",
      "File \u001b[1;32mc:\\Users\\tomkj\\miniconda3\\envs\\ai\\lib\\site-packages\\lightning\\pytorch\\trainer\\trainer.py:835\u001b[0m, in \u001b[0;36mTrainer._test_impl\u001b[1;34m(self, model, dataloaders, ckpt_path, verbose, datamodule)\u001b[0m\n\u001b[0;32m    832\u001b[0m \u001b[39m# links data to the trainer\u001b[39;00m\n\u001b[0;32m    833\u001b[0m \u001b[39mself\u001b[39m\u001b[39m.\u001b[39m_data_connector\u001b[39m.\u001b[39mattach_data(model, test_dataloaders\u001b[39m=\u001b[39mdataloaders, datamodule\u001b[39m=\u001b[39mdatamodule)\n\u001b[1;32m--> 835\u001b[0m \u001b[39mself\u001b[39m\u001b[39m.\u001b[39m_ckpt_path \u001b[39m=\u001b[39m \u001b[39mself\u001b[39;49m\u001b[39m.\u001b[39;49m_checkpoint_connector\u001b[39m.\u001b[39;49m_set_ckpt_path(\n\u001b[0;32m    836\u001b[0m     \u001b[39mself\u001b[39;49m\u001b[39m.\u001b[39;49mstate\u001b[39m.\u001b[39;49mfn, ckpt_path, model_provided\u001b[39m=\u001b[39;49mmodel_provided, model_connected\u001b[39m=\u001b[39;49m\u001b[39mself\u001b[39;49m\u001b[39m.\u001b[39;49mlightning_module \u001b[39mis\u001b[39;49;00m \u001b[39mnot\u001b[39;49;00m \u001b[39mNone\u001b[39;49;00m\n\u001b[0;32m    837\u001b[0m )\n\u001b[0;32m    839\u001b[0m \u001b[39mself\u001b[39m\u001b[39m.\u001b[39m_tested_ckpt_path \u001b[39m=\u001b[39m \u001b[39mself\u001b[39m\u001b[39m.\u001b[39mckpt_path  \u001b[39m# TODO: remove in v1.8\u001b[39;00m\n\u001b[0;32m    841\u001b[0m \u001b[39m# run test\u001b[39;00m\n",
      "File \u001b[1;32mc:\\Users\\tomkj\\miniconda3\\envs\\ai\\lib\\site-packages\\lightning\\pytorch\\trainer\\connectors\\checkpoint_connector.py:150\u001b[0m, in \u001b[0;36mCheckpointConnector._set_ckpt_path\u001b[1;34m(self, state_fn, ckpt_path, model_provided, model_connected)\u001b[0m\n\u001b[0;32m    145\u001b[0m     \u001b[39mif\u001b[39;00m \u001b[39mself\u001b[39m\u001b[39m.\u001b[39mtrainer\u001b[39m.\u001b[39mfast_dev_run:\n\u001b[0;32m    146\u001b[0m         \u001b[39mraise\u001b[39;00m \u001b[39mValueError\u001b[39;00m(\n\u001b[0;32m    147\u001b[0m             \u001b[39mf\u001b[39m\u001b[39m'\u001b[39m\u001b[39mYou cannot execute `.\u001b[39m\u001b[39m{\u001b[39;00mfn\u001b[39m}\u001b[39;00m\u001b[39m(ckpt_path=\u001b[39m\u001b[39m\"\u001b[39m\u001b[39mbest\u001b[39m\u001b[39m\"\u001b[39m\u001b[39m)` with `fast_dev_run=True`.\u001b[39m\u001b[39m'\u001b[39m\n\u001b[0;32m    148\u001b[0m             \u001b[39mf\u001b[39m\u001b[39m\"\u001b[39m\u001b[39m Please pass an exact checkpoint path to `.\u001b[39m\u001b[39m{\u001b[39;00mfn\u001b[39m}\u001b[39;00m\u001b[39m(ckpt_path=...)`\u001b[39m\u001b[39m\"\u001b[39m\n\u001b[0;32m    149\u001b[0m         )\n\u001b[1;32m--> 150\u001b[0m     \u001b[39mraise\u001b[39;00m \u001b[39mValueError\u001b[39;00m(\n\u001b[0;32m    151\u001b[0m         \u001b[39mf\u001b[39m\u001b[39m'\u001b[39m\u001b[39m`.\u001b[39m\u001b[39m{\u001b[39;00mfn\u001b[39m}\u001b[39;00m\u001b[39m(ckpt_path=\u001b[39m\u001b[39m\"\u001b[39m\u001b[39mbest\u001b[39m\u001b[39m\"\u001b[39m\u001b[39m)` is set but `ModelCheckpoint` is not configured to save the best model.\u001b[39m\u001b[39m'\u001b[39m\n\u001b[0;32m    152\u001b[0m     )\n\u001b[0;32m    153\u001b[0m \u001b[39m# load best weights\u001b[39;00m\n\u001b[0;32m    154\u001b[0m ckpt_path \u001b[39m=\u001b[39m \u001b[39mgetattr\u001b[39m(\u001b[39mself\u001b[39m\u001b[39m.\u001b[39mtrainer\u001b[39m.\u001b[39mcheckpoint_callback, \u001b[39m\"\u001b[39m\u001b[39mbest_model_path\u001b[39m\u001b[39m\"\u001b[39m, \u001b[39mNone\u001b[39;00m)\n",
      "\u001b[1;31mValueError\u001b[0m: `.test(ckpt_path=\"best\")` is set but `ModelCheckpoint` is not configured to save the best model."
     ]
    }
   ],
   "source": [
    "train(model, \"mnist\", root_dir=\"../..\", is_test=True, max_depth=-1)"
   ]
  },
  {
   "cell_type": "code",
   "execution_count": 5,
   "metadata": {},
   "outputs": [
    {
     "name": "stderr",
     "output_type": "stream",
     "text": [
      "Trainer already configured with model summary callbacks: [<class 'lightning.pytorch.callbacks.model_summary.ModelSummary'>]. Skipping setting a default `ModelSummary` callback.\n",
      "GPU available: False, used: False\n",
      "TPU available: False, using: 0 TPU cores\n",
      "IPU available: False, using: 0 IPUs\n",
      "HPU available: False, using: 0 HPUs\n",
      "\n",
      "   | Name                   | Type               | Params\n",
      "---------------------------------------------------------------\n",
      "0  | model                  | ResNet18           | 11.2 M\n",
      "1  | model.conv1            | Conv2d             | 3.2 K \n",
      "2  | model.bn1              | BatchNorm2d        | 128   \n",
      "3  | model.relu             | ReLU               | 0     \n",
      "4  | model.maxpool          | MaxPool2d          | 0     \n",
      "5  | model.head             | Sequential         | 5.1 K \n",
      "6  | model.head.0           | AdaptiveAvgPool2d  | 0     \n",
      "7  | model.head.1           | Flatten            | 0     \n",
      "8  | model.head.2           | Linear             | 5.1 K \n",
      "9  | model.layers           | Sequential         | 11.2 M\n",
      "10 | model.layers.0         | ResidualBlock      | 78.3 K\n",
      "11 | model.layers.0.bn1     | BatchNorm2d        | 128   \n",
      "12 | model.layers.0.conv1   | Conv2d             | 36.9 K\n",
      "13 | model.layers.0.bn2     | BatchNorm2d        | 128   \n",
      "14 | model.layers.0.conv2   | Conv2d             | 36.9 K\n",
      "15 | model.layers.0.relu    | ReLU               | 0     \n",
      "16 | model.layers.0.dropout | Dropout            | 0     \n",
      "17 | model.layers.0.rescale | Conv2d             | 4.2 K \n",
      "18 | model.layers.1         | ResidualBlock      | 74.1 K\n",
      "19 | model.layers.1.bn1     | BatchNorm2d        | 128   \n",
      "20 | model.layers.1.conv1   | Conv2d             | 36.9 K\n",
      "21 | model.layers.1.bn2     | BatchNorm2d        | 128   \n",
      "22 | model.layers.1.conv2   | Conv2d             | 36.9 K\n",
      "23 | model.layers.1.relu    | ReLU               | 0     \n",
      "24 | model.layers.1.dropout | Dropout            | 0     \n",
      "25 | model.layers.2         | ResidualBlock      | 230 K \n",
      "26 | model.layers.2.bn1     | BatchNorm2d        | 128   \n",
      "27 | model.layers.2.conv1   | Conv2d             | 73.9 K\n",
      "28 | model.layers.2.bn2     | BatchNorm2d        | 256   \n",
      "29 | model.layers.2.conv2   | Conv2d             | 147 K \n",
      "30 | model.layers.2.relu    | ReLU               | 0     \n",
      "31 | model.layers.2.dropout | Dropout            | 0     \n",
      "32 | model.layers.2.rescale | Conv2d             | 8.3 K \n",
      "33 | model.layers.3         | ResidualBlock      | 295 K \n",
      "34 | model.layers.3.bn1     | BatchNorm2d        | 256   \n",
      "35 | model.layers.3.conv1   | Conv2d             | 147 K \n",
      "36 | model.layers.3.bn2     | BatchNorm2d        | 256   \n",
      "37 | model.layers.3.conv2   | Conv2d             | 147 K \n",
      "38 | model.layers.3.relu    | ReLU               | 0     \n",
      "39 | model.layers.3.dropout | Dropout            | 0     \n",
      "40 | model.layers.4         | ResidualBlock      | 919 K \n",
      "41 | model.layers.4.bn1     | BatchNorm2d        | 256   \n",
      "42 | model.layers.4.conv1   | Conv2d             | 295 K \n",
      "43 | model.layers.4.bn2     | BatchNorm2d        | 512   \n",
      "44 | model.layers.4.conv2   | Conv2d             | 590 K \n",
      "45 | model.layers.4.relu    | ReLU               | 0     \n",
      "46 | model.layers.4.dropout | Dropout            | 0     \n",
      "47 | model.layers.4.rescale | Conv2d             | 33.0 K\n",
      "48 | model.layers.5         | ResidualBlock      | 1.2 M \n",
      "49 | model.layers.5.bn1     | BatchNorm2d        | 512   \n",
      "50 | model.layers.5.conv1   | Conv2d             | 590 K \n",
      "51 | model.layers.5.bn2     | BatchNorm2d        | 512   \n",
      "52 | model.layers.5.conv2   | Conv2d             | 590 K \n",
      "53 | model.layers.5.relu    | ReLU               | 0     \n",
      "54 | model.layers.5.dropout | Dropout            | 0     \n",
      "55 | model.layers.6         | ResidualBlock      | 3.7 M \n",
      "56 | model.layers.6.bn1     | BatchNorm2d        | 512   \n",
      "57 | model.layers.6.conv1   | Conv2d             | 1.2 M \n",
      "58 | model.layers.6.bn2     | BatchNorm2d        | 1.0 K \n",
      "59 | model.layers.6.conv2   | Conv2d             | 2.4 M \n",
      "60 | model.layers.6.relu    | ReLU               | 0     \n",
      "61 | model.layers.6.dropout | Dropout            | 0     \n",
      "62 | model.layers.6.rescale | Conv2d             | 131 K \n",
      "63 | model.layers.7         | ResidualBlock      | 4.7 M \n",
      "64 | model.layers.7.bn1     | BatchNorm2d        | 1.0 K \n",
      "65 | model.layers.7.conv1   | Conv2d             | 2.4 M \n",
      "66 | model.layers.7.bn2     | BatchNorm2d        | 1.0 K \n",
      "67 | model.layers.7.conv2   | Conv2d             | 2.4 M \n",
      "68 | model.layers.7.relu    | ReLU               | 0     \n",
      "69 | model.layers.7.dropout | Dropout            | 0     \n",
      "70 | loss_fn                | CrossEntropyLoss   | 0     \n",
      "71 | train_accuracy         | MulticlassAccuracy | 0     \n",
      "72 | val_accuracy           | MulticlassAccuracy | 0     \n",
      "73 | test_accuracy          | MulticlassAccuracy | 0     \n",
      "---------------------------------------------------------------\n",
      "11.2 M    Trainable params\n",
      "0         Non-trainable params\n",
      "11.2 M    Total params\n",
      "44.727    Total estimated model params size (MB)\n"
     ]
    },
    {
     "name": "stdout",
     "output_type": "stream",
     "text": [
      "Root directory: C:\\Users\\tomkj\\Development\\Vision\n"
     ]
    },
    {
     "data": {
      "application/vnd.jupyter.widget-view+json": {
       "model_id": "c49c17bd69da433c9221063850b291b6",
       "version_major": 2,
       "version_minor": 0
      },
      "text/plain": [
       "Sanity Checking: 0it [00:00, ?it/s]"
      ]
     },
     "metadata": {},
     "output_type": "display_data"
    },
    {
     "data": {
      "application/vnd.jupyter.widget-view+json": {
       "model_id": "002f15b75b9a40fcb0eb91e35875a8ef",
       "version_major": 2,
       "version_minor": 0
      },
      "text/plain": [
       "Training: 0it [00:00, ?it/s]"
      ]
     },
     "metadata": {},
     "output_type": "display_data"
    },
    {
     "ename": "ValueError",
     "evalue": "`.test(ckpt_path=\"best\")` is set but `ModelCheckpoint` is not configured to save the best model.",
     "output_type": "error",
     "traceback": [
      "\u001b[1;31m---------------------------------------------------------------------------\u001b[0m",
      "\u001b[1;31mValueError\u001b[0m                                Traceback (most recent call last)",
      "Cell \u001b[1;32mIn[5], line 1\u001b[0m\n\u001b[1;32m----> 1\u001b[0m train(\u001b[39m\"\u001b[39;49m\u001b[39mresnet18\u001b[39;49m\u001b[39m\"\u001b[39;49m, \u001b[39m\"\u001b[39;49m\u001b[39mmnist\u001b[39;49m\u001b[39m\"\u001b[39;49m, root_dir\u001b[39m=\u001b[39;49m\u001b[39m\"\u001b[39;49m\u001b[39m../..\u001b[39;49m\u001b[39m\"\u001b[39;49m, is_test\u001b[39m=\u001b[39;49m\u001b[39mTrue\u001b[39;49;00m, max_depth\u001b[39m=\u001b[39;49m\u001b[39m-\u001b[39;49m\u001b[39m1\u001b[39;49m)\n",
      "File \u001b[1;32mc:\\users\\tomkj\\development\\vision\\vision\\tasks\\classification\\train.py:122\u001b[0m, in \u001b[0;36mtrain\u001b[1;34m(model, dataset_name, root_dir, epochs, batch_size, is_test, num_workers, lr, stopping_patience, max_depth)\u001b[0m\n\u001b[0;32m    109\u001b[0m trainer \u001b[39m=\u001b[39m Trainer(\n\u001b[0;32m    110\u001b[0m     max_epochs\u001b[39m=\u001b[39mepochs,\n\u001b[0;32m    111\u001b[0m     accelerator\u001b[39m=\u001b[39m\u001b[39m\"\u001b[39m\u001b[39mauto\u001b[39m\u001b[39m\"\u001b[39m,\n\u001b[1;32m   (...)\u001b[0m\n\u001b[0;32m    118\u001b[0m     ],\n\u001b[0;32m    119\u001b[0m )\n\u001b[0;32m    121\u001b[0m trainer\u001b[39m.\u001b[39mfit(model, datamodule\u001b[39m=\u001b[39mdatamodule)\n\u001b[1;32m--> 122\u001b[0m trainer\u001b[39m.\u001b[39;49mtest(ckpt_path\u001b[39m=\u001b[39;49m\u001b[39m\"\u001b[39;49m\u001b[39mbest\u001b[39;49m\u001b[39m\"\u001b[39;49m, datamodule\u001b[39m=\u001b[39;49mdatamodule)\n",
      "File \u001b[1;32mc:\\Users\\tomkj\\miniconda3\\envs\\ai\\lib\\site-packages\\lightning\\pytorch\\trainer\\trainer.py:794\u001b[0m, in \u001b[0;36mTrainer.test\u001b[1;34m(self, model, dataloaders, ckpt_path, verbose, datamodule)\u001b[0m\n\u001b[0;32m    792\u001b[0m     model \u001b[39m=\u001b[39m \u001b[39mself\u001b[39m\u001b[39m.\u001b[39m_maybe_unwrap_optimized(model)\n\u001b[0;32m    793\u001b[0m     \u001b[39mself\u001b[39m\u001b[39m.\u001b[39mstrategy\u001b[39m.\u001b[39m_lightning_module \u001b[39m=\u001b[39m model\n\u001b[1;32m--> 794\u001b[0m \u001b[39mreturn\u001b[39;00m call\u001b[39m.\u001b[39;49m_call_and_handle_interrupt(\n\u001b[0;32m    795\u001b[0m     \u001b[39mself\u001b[39;49m, \u001b[39mself\u001b[39;49m\u001b[39m.\u001b[39;49m_test_impl, model, dataloaders, ckpt_path, verbose, datamodule\n\u001b[0;32m    796\u001b[0m )\n",
      "File \u001b[1;32mc:\\Users\\tomkj\\miniconda3\\envs\\ai\\lib\\site-packages\\lightning\\pytorch\\trainer\\call.py:38\u001b[0m, in \u001b[0;36m_call_and_handle_interrupt\u001b[1;34m(trainer, trainer_fn, *args, **kwargs)\u001b[0m\n\u001b[0;32m     36\u001b[0m         \u001b[39mreturn\u001b[39;00m trainer\u001b[39m.\u001b[39mstrategy\u001b[39m.\u001b[39mlauncher\u001b[39m.\u001b[39mlaunch(trainer_fn, \u001b[39m*\u001b[39margs, trainer\u001b[39m=\u001b[39mtrainer, \u001b[39m*\u001b[39m\u001b[39m*\u001b[39mkwargs)\n\u001b[0;32m     37\u001b[0m     \u001b[39melse\u001b[39;00m:\n\u001b[1;32m---> 38\u001b[0m         \u001b[39mreturn\u001b[39;00m trainer_fn(\u001b[39m*\u001b[39margs, \u001b[39m*\u001b[39m\u001b[39m*\u001b[39mkwargs)\n\u001b[0;32m     40\u001b[0m \u001b[39mexcept\u001b[39;00m _TunerExitException:\n\u001b[0;32m     41\u001b[0m     trainer\u001b[39m.\u001b[39m_call_teardown_hook()\n",
      "File \u001b[1;32mc:\\Users\\tomkj\\miniconda3\\envs\\ai\\lib\\site-packages\\lightning\\pytorch\\trainer\\trainer.py:835\u001b[0m, in \u001b[0;36mTrainer._test_impl\u001b[1;34m(self, model, dataloaders, ckpt_path, verbose, datamodule)\u001b[0m\n\u001b[0;32m    832\u001b[0m \u001b[39m# links data to the trainer\u001b[39;00m\n\u001b[0;32m    833\u001b[0m \u001b[39mself\u001b[39m\u001b[39m.\u001b[39m_data_connector\u001b[39m.\u001b[39mattach_data(model, test_dataloaders\u001b[39m=\u001b[39mdataloaders, datamodule\u001b[39m=\u001b[39mdatamodule)\n\u001b[1;32m--> 835\u001b[0m \u001b[39mself\u001b[39m\u001b[39m.\u001b[39m_ckpt_path \u001b[39m=\u001b[39m \u001b[39mself\u001b[39;49m\u001b[39m.\u001b[39;49m_checkpoint_connector\u001b[39m.\u001b[39;49m_set_ckpt_path(\n\u001b[0;32m    836\u001b[0m     \u001b[39mself\u001b[39;49m\u001b[39m.\u001b[39;49mstate\u001b[39m.\u001b[39;49mfn, ckpt_path, model_provided\u001b[39m=\u001b[39;49mmodel_provided, model_connected\u001b[39m=\u001b[39;49m\u001b[39mself\u001b[39;49m\u001b[39m.\u001b[39;49mlightning_module \u001b[39mis\u001b[39;49;00m \u001b[39mnot\u001b[39;49;00m \u001b[39mNone\u001b[39;49;00m\n\u001b[0;32m    837\u001b[0m )\n\u001b[0;32m    839\u001b[0m \u001b[39mself\u001b[39m\u001b[39m.\u001b[39m_tested_ckpt_path \u001b[39m=\u001b[39m \u001b[39mself\u001b[39m\u001b[39m.\u001b[39mckpt_path  \u001b[39m# TODO: remove in v1.8\u001b[39;00m\n\u001b[0;32m    841\u001b[0m \u001b[39m# run test\u001b[39;00m\n",
      "File \u001b[1;32mc:\\Users\\tomkj\\miniconda3\\envs\\ai\\lib\\site-packages\\lightning\\pytorch\\trainer\\connectors\\checkpoint_connector.py:150\u001b[0m, in \u001b[0;36mCheckpointConnector._set_ckpt_path\u001b[1;34m(self, state_fn, ckpt_path, model_provided, model_connected)\u001b[0m\n\u001b[0;32m    145\u001b[0m     \u001b[39mif\u001b[39;00m \u001b[39mself\u001b[39m\u001b[39m.\u001b[39mtrainer\u001b[39m.\u001b[39mfast_dev_run:\n\u001b[0;32m    146\u001b[0m         \u001b[39mraise\u001b[39;00m \u001b[39mValueError\u001b[39;00m(\n\u001b[0;32m    147\u001b[0m             \u001b[39mf\u001b[39m\u001b[39m'\u001b[39m\u001b[39mYou cannot execute `.\u001b[39m\u001b[39m{\u001b[39;00mfn\u001b[39m}\u001b[39;00m\u001b[39m(ckpt_path=\u001b[39m\u001b[39m\"\u001b[39m\u001b[39mbest\u001b[39m\u001b[39m\"\u001b[39m\u001b[39m)` with `fast_dev_run=True`.\u001b[39m\u001b[39m'\u001b[39m\n\u001b[0;32m    148\u001b[0m             \u001b[39mf\u001b[39m\u001b[39m\"\u001b[39m\u001b[39m Please pass an exact checkpoint path to `.\u001b[39m\u001b[39m{\u001b[39;00mfn\u001b[39m}\u001b[39;00m\u001b[39m(ckpt_path=...)`\u001b[39m\u001b[39m\"\u001b[39m\n\u001b[0;32m    149\u001b[0m         )\n\u001b[1;32m--> 150\u001b[0m     \u001b[39mraise\u001b[39;00m \u001b[39mValueError\u001b[39;00m(\n\u001b[0;32m    151\u001b[0m         \u001b[39mf\u001b[39m\u001b[39m'\u001b[39m\u001b[39m`.\u001b[39m\u001b[39m{\u001b[39;00mfn\u001b[39m}\u001b[39;00m\u001b[39m(ckpt_path=\u001b[39m\u001b[39m\"\u001b[39m\u001b[39mbest\u001b[39m\u001b[39m\"\u001b[39m\u001b[39m)` is set but `ModelCheckpoint` is not configured to save the best model.\u001b[39m\u001b[39m'\u001b[39m\n\u001b[0;32m    152\u001b[0m     )\n\u001b[0;32m    153\u001b[0m \u001b[39m# load best weights\u001b[39;00m\n\u001b[0;32m    154\u001b[0m ckpt_path \u001b[39m=\u001b[39m \u001b[39mgetattr\u001b[39m(\u001b[39mself\u001b[39m\u001b[39m.\u001b[39mtrainer\u001b[39m.\u001b[39mcheckpoint_callback, \u001b[39m\"\u001b[39m\u001b[39mbest_model_path\u001b[39m\u001b[39m\"\u001b[39m, \u001b[39mNone\u001b[39;00m)\n",
      "\u001b[1;31mValueError\u001b[0m: `.test(ckpt_path=\"best\")` is set but `ModelCheckpoint` is not configured to save the best model."
     ]
    }
   ],
   "source": [
    "train(\"resnet18\", \"mnist\", root_dir=\"../..\", is_test=True, max_depth=-1)"
   ]
  },
  {
   "cell_type": "code",
   "execution_count": null,
   "metadata": {},
   "outputs": [],
   "source": []
  }
 ],
 "metadata": {
  "kernelspec": {
   "display_name": "Python 3",
   "language": "python",
   "name": "python3"
  },
  "language_info": {
   "codemirror_mode": {
    "name": "ipython",
    "version": 3
   },
   "file_extension": ".py",
   "mimetype": "text/x-python",
   "name": "python",
   "nbconvert_exporter": "python",
   "pygments_lexer": "ipython3",
   "version": "3.10.6"
  },
  "orig_nbformat": 4
 },
 "nbformat": 4,
 "nbformat_minor": 2
}
