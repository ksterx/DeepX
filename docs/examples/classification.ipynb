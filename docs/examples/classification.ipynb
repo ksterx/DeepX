{
    "cells": [
        {
            "cell_type": "code",
            "execution_count": 8,
            "metadata": {},
            "outputs": [],
            "source": [
                "from deepx.tasks.classification import (\n",
                "    ClassificationModelConfig,\n",
                "    ClassificationConfig,\n",
                "    ClassificationDMConfig,\n",
                "    ClassificationTrainer,\n",
                ")\n",
                "from deepx.tasks.core import DataModuleConfig, TrainingConfig"
            ]
        },
        {
            "cell_type": "code",
            "execution_count": 2,
            "metadata": {},
            "outputs": [],
            "source": [
                "model_cfg = ClassificationModelConfig(model=\"resnet18\", num_classes=10, in_channels=1)\n"
            ]
        },
        {
            "cell_type": "code",
            "execution_count": 3,
            "metadata": {},
            "outputs": [],
            "source": [
                "task_cfg = ClassificationConfig(lr=1e-4, loss_fn=\"ce\", optimizer=\"adam\")\n"
            ]
        },
        {
            "cell_type": "code",
            "execution_count": 9,
            "metadata": {},
            "outputs": [],
            "source": [
                "dm_cfg = ClassificationDMConfig(\n",
                "    dm=\"mnist\",\n",
                "    batch_size=32,\n",
                "    num_workers=2,\n",
                "    train_ratio=0.8,\n",
                "    data_dir=\"/Users/ksterx/Development/PythonProjects/data\",\n",
                ")"
            ]
        },
        {
            "cell_type": "code",
            "execution_count": 10,
            "metadata": {},
            "outputs": [],
            "source": [
                "train_cfg = TrainingConfig(\n",
                "    ckpt_path=None,\n",
                "    epochs=2,\n",
                "    patience=5,\n",
                "    max_depth=1,\n",
                "    benchmark=True,\n",
                "    debug=True,\n",
                "    monitor_metric=\"val_loss\",\n",
                "    monitor_mode=\"min\",\n",
                "    logging=False,\n",
                "    logger=\"mlflow\",\n",
                "    accelerator=\"cpu\",\n",
                "    devices=None,\n",
                "    root_dir=\"/Users/ksterx/Development/PythonProjects/DeepX\",\n",
                "    log_dir=\"/Users/ksterx/Development/PythonProjects/mlruns\",\n",
                ")"
            ]
        },
        {
            "cell_type": "code",
            "execution_count": 11,
            "metadata": {},
            "outputs": [
                {
                    "ename": "AttributeError",
                    "evalue": "'ClassificationModelConfig' object has no attribute 'update'",
                    "output_type": "error",
                    "traceback": [
                        "\u001b[0;31m---------------------------------------------------------------------------\u001b[0m",
                        "\u001b[0;31mAttributeError\u001b[0m                            Traceback (most recent call last)",
                        "Cell \u001b[0;32mIn[11], line 1\u001b[0m\n\u001b[0;32m----> 1\u001b[0m trainer \u001b[39m=\u001b[39m ClassificationTrainer(\n\u001b[1;32m      2\u001b[0m     model_cfg\u001b[39m=\u001b[39;49mmodel_cfg, task_cfg\u001b[39m=\u001b[39;49mtask_cfg, dm_cfg\u001b[39m=\u001b[39;49mdm_cfg, train_cfg\u001b[39m=\u001b[39;49mtrain_cfg\n\u001b[1;32m      3\u001b[0m )\n",
                        "File \u001b[0;32m~/Development/PythonProjects/DeepX/deepx/utils/wrappers.py:17\u001b[0m, in \u001b[0;36mwatch_kwargs.<locals>.wrapper\u001b[0;34m(*args, **kwargs)\u001b[0m\n\u001b[1;32m     13\u001b[0m     \u001b[39mif\u001b[39;00m k \u001b[39mnot\u001b[39;00m \u001b[39min\u001b[39;00m params:\n\u001b[1;32m     14\u001b[0m         logger\u001b[39m.\u001b[39mwarning(\n\u001b[1;32m     15\u001b[0m             \u001b[39mf\u001b[39m\u001b[39m\"\u001b[39m\u001b[39m{\u001b[39;00mk\u001b[39m}\u001b[39;00m\u001b[39m = \u001b[39m\u001b[39m{\u001b[39;00mv\u001b[39m}\u001b[39;00m\u001b[39m is passed to \u001b[39m\u001b[39m{\u001b[39;00mfunc\u001b[39m.\u001b[39m\u001b[39m__module__\u001b[39m\u001b[39m}\u001b[39;00m\u001b[39m/\u001b[39m\u001b[39m{\u001b[39;00mfunc\u001b[39m.\u001b[39m\u001b[39m__name__\u001b[39m\u001b[39m}\u001b[39;00m\u001b[39m, but it passes through.\u001b[39m\u001b[39m\"\u001b[39m\n\u001b[1;32m     16\u001b[0m         )\n\u001b[0;32m---> 17\u001b[0m func(\u001b[39m*\u001b[39;49margs, \u001b[39m*\u001b[39;49m\u001b[39m*\u001b[39;49mkwargs)\n",
                        "File \u001b[0;32m~/Development/PythonProjects/DeepX/deepx/tasks/core.py:236\u001b[0m, in \u001b[0;36mTrainer.__init__\u001b[0;34m(self, model_cfg, task_cfg, dm_cfg, train_cfg, **kwargs)\u001b[0m\n\u001b[1;32m    233\u001b[0m     \u001b[39mself\u001b[39m\u001b[39m.\u001b[39mhparams\u001b[39m.\u001b[39mupdate(\u001b[39m*\u001b[39m\u001b[39m*\u001b[39m\u001b[39mvars\u001b[39m(train_cfg))\n\u001b[1;32m    235\u001b[0m \u001b[39mself\u001b[39m\u001b[39m.\u001b[39mdm \u001b[39m=\u001b[39m \u001b[39mself\u001b[39m\u001b[39m.\u001b[39m_get_datamodule(\u001b[39m*\u001b[39m\u001b[39m*\u001b[39m\u001b[39mvars\u001b[39m(dm_cfg))\n\u001b[0;32m--> 236\u001b[0m \u001b[39mself\u001b[39;49m\u001b[39m.\u001b[39;49m_update_configs()\n\u001b[1;32m    237\u001b[0m \u001b[39mself\u001b[39m\u001b[39m.\u001b[39mtask \u001b[39m=\u001b[39m \u001b[39mself\u001b[39m\u001b[39m.\u001b[39m_build_task(model_cfg\u001b[39m=\u001b[39mmodel_cfg, task_cfg\u001b[39m=\u001b[39mtask_cfg)\n",
                        "File \u001b[0;32m~/Development/PythonProjects/DeepX/deepx/tasks/classification.py:99\u001b[0m, in \u001b[0;36mClassificationTrainer._update_configs\u001b[0;34m(self)\u001b[0m\n\u001b[1;32m     98\u001b[0m \u001b[39mdef\u001b[39;00m \u001b[39m_update_configs\u001b[39m(\u001b[39mself\u001b[39m):\n\u001b[0;32m---> 99\u001b[0m     \u001b[39mself\u001b[39;49m\u001b[39m.\u001b[39;49mmodel_cfg\u001b[39m.\u001b[39;49mupdate(\n\u001b[1;32m    100\u001b[0m         {\n\u001b[1;32m    101\u001b[0m             \u001b[39m\"\u001b[39m\u001b[39mnum_classes\u001b[39m\u001b[39m\"\u001b[39m: \u001b[39mself\u001b[39m\u001b[39m.\u001b[39mdm\u001b[39m.\u001b[39mNUM_CLASSES,\n\u001b[1;32m    102\u001b[0m             \u001b[39m\"\u001b[39m\u001b[39min_channels\u001b[39m\u001b[39m\"\u001b[39m: \u001b[39mself\u001b[39m\u001b[39m.\u001b[39mdm\u001b[39m.\u001b[39mNUM_CHANNELS,\n\u001b[1;32m    103\u001b[0m         }\n\u001b[1;32m    104\u001b[0m     )\n",
                        "\u001b[0;31mAttributeError\u001b[0m: 'ClassificationModelConfig' object has no attribute 'update'"
                    ]
                }
            ],
            "source": [
                "trainer = ClassificationTrainer(\n",
                "    model_cfg=model_cfg, task_cfg=task_cfg, dm_cfg=dm_cfg, train_cfg=train_cfg\n",
                ")\n"
            ]
        },
        {
            "cell_type": "code",
            "execution_count": null,
            "metadata": {},
            "outputs": [],
            "source": []
        },
        {
            "cell_type": "code",
            "execution_count": null,
            "metadata": {},
            "outputs": [],
            "source": []
        }
    ],
    "metadata": {
        "kernelspec": {
            "display_name": "Python 3",
            "language": "python",
            "name": "python3"
        },
        "language_info": {
            "codemirror_mode": {
                "name": "ipython",
                "version": 3
            },
            "file_extension": ".py",
            "mimetype": "text/x-python",
            "name": "python",
            "nbconvert_exporter": "python",
            "pygments_lexer": "ipython3",
            "version": "3.10.8"
        },
        "orig_nbformat": 4
    },
    "nbformat": 4,
    "nbformat_minor": 2
}
