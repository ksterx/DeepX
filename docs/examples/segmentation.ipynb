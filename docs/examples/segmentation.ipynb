{
 "cells": [
  {
   "cell_type": "code",
   "execution_count": 1,
   "metadata": {},
   "outputs": [],
   "source": [
    "from deepx.tasks.trainers import SegmentationTrainer"
   ]
  },
  {
   "cell_type": "code",
   "execution_count": 2,
   "metadata": {},
   "outputs": [
    {
     "ename": "TypeError",
     "evalue": "Can't instantiate abstract class Segmentation with abstract method name",
     "output_type": "error",
     "traceback": [
      "\u001b[0;31m---------------------------------------------------------------------------\u001b[0m",
      "\u001b[0;31mTypeError\u001b[0m                                 Traceback (most recent call last)",
      "Cell \u001b[0;32mIn[2], line 1\u001b[0m\n\u001b[0;32m----> 1\u001b[0m trainer \u001b[39m=\u001b[39m SegmentationTrainer(model\u001b[39m=\u001b[39;49m\u001b[39m\"\u001b[39;49m\u001b[39munet\u001b[39;49m\u001b[39m\"\u001b[39;49m, datamodule\u001b[39m=\u001b[39;49m\u001b[39m\"\u001b[39;49m\u001b[39mvocseg\u001b[39;49m\u001b[39m\"\u001b[39;49m)\n\u001b[1;32m      2\u001b[0m trainer\u001b[39m.\u001b[39mtrain(debug\u001b[39m=\u001b[39m\u001b[39mTrue\u001b[39;00m)\n",
      "File \u001b[0;32m/workspace/deepx/tasks/trainers/segmentation.py:51\u001b[0m, in \u001b[0;36mSegmentationTrainer.__init__\u001b[0;34m(self, model, datamodule, batch_size, train_ratio, num_workers, download, lr, loss_fn, optimizer, root_dir, data_dir, log_dir, **kwargs)\u001b[0m\n\u001b[1;32m     48\u001b[0m \u001b[39mself\u001b[39m\u001b[39m.\u001b[39mmodel \u001b[39m=\u001b[39m \u001b[39mself\u001b[39m\u001b[39m.\u001b[39mget_model(model, num_classes\u001b[39m=\u001b[39mnum_classes, in_channels\u001b[39m=\u001b[39min_channels)\n\u001b[1;32m     50\u001b[0m \u001b[39m# Set up task\u001b[39;00m\n\u001b[0;32m---> 51\u001b[0m \u001b[39mself\u001b[39m\u001b[39m.\u001b[39mtask \u001b[39m=\u001b[39m \u001b[39mself\u001b[39;49m\u001b[39m.\u001b[39;49mget_task(\n\u001b[1;32m     52\u001b[0m     \u001b[39mself\u001b[39;49m\u001b[39m.\u001b[39;49mTASK_TYPE,\n\u001b[1;32m     53\u001b[0m     model\u001b[39m=\u001b[39;49m\u001b[39mself\u001b[39;49m\u001b[39m.\u001b[39;49mmodel,\n\u001b[1;32m     54\u001b[0m     num_classes\u001b[39m=\u001b[39;49mnum_classes,\n\u001b[1;32m     55\u001b[0m     lr\u001b[39m=\u001b[39;49mlr,\n\u001b[1;32m     56\u001b[0m     loss_fn\u001b[39m=\u001b[39;49mloss_fn,\n\u001b[1;32m     57\u001b[0m     optimizer\u001b[39m=\u001b[39;49moptimizer,\n\u001b[1;32m     58\u001b[0m )\n",
      "File \u001b[0;32m/workspace/deepx/tasks/trainers/trainer.py:72\u001b[0m, in \u001b[0;36mTrainerX.get_task\u001b[0;34m(self, task, **kwargs)\u001b[0m\n\u001b[1;32m     70\u001b[0m \u001b[39mif\u001b[39;00m \u001b[39misinstance\u001b[39m(task, \u001b[39mstr\u001b[39m):\n\u001b[1;32m     71\u001b[0m     task_cls \u001b[39m=\u001b[39m tasks\u001b[39m.\u001b[39mregistered_tasks[task][\u001b[39m\"\u001b[39m\u001b[39mtask\u001b[39m\u001b[39m\"\u001b[39m]\n\u001b[0;32m---> 72\u001b[0m     \u001b[39mreturn\u001b[39;00m task_cls(\u001b[39m*\u001b[39;49m\u001b[39m*\u001b[39;49mkwargs)\n\u001b[1;32m     73\u001b[0m \u001b[39melse\u001b[39;00m:\n\u001b[1;32m     74\u001b[0m     \u001b[39mreturn\u001b[39;00m task\n",
      "\u001b[0;31mTypeError\u001b[0m: Can't instantiate abstract class Segmentation with abstract method name"
     ]
    }
   ],
   "source": [
    "trainer = SegmentationTrainer(model=\"unet\", datamodule=\"vocseg\")\n",
    "trainer.train(debug=True)"
   ]
  },
  {
   "cell_type": "code",
   "execution_count": null,
   "metadata": {},
   "outputs": [],
   "source": []
  }
 ],
 "metadata": {
  "kernelspec": {
   "display_name": "ai",
   "language": "python",
   "name": "python3"
  },
  "language_info": {
   "codemirror_mode": {
    "name": "ipython",
    "version": 3
   },
   "file_extension": ".py",
   "mimetype": "text/x-python",
   "name": "python",
   "nbconvert_exporter": "python",
   "pygments_lexer": "ipython3",
   "version": "3.10.6"
  },
  "orig_nbformat": 4
 },
 "nbformat": 4,
 "nbformat_minor": 2
}
