{
 "cells": [
  {
   "cell_type": "code",
   "execution_count": 1,
   "metadata": {},
   "outputs": [],
   "source": [
    "def determine_ksp(shape):\n",
    "    \"\"\"Determine kernel_size, stride, and padding for Conv2d and ConvTranspose2d\n",
    "\n",
    "    Args:\n",
    "        shape (tuple[int, int]): (H, W)\n",
    "\n",
    "    Returns:\n",
    "        tuple[int, int, int]: (kernel_size, stride, padding)\n",
    "    \"\"\"\n",
    "    h, w = shape\n",
    "    assert h == w, \"Height and width must be equal\"\n",
    "\n",
    "    ksp_list = []\n",
    "\n",
    "    def determine(h):\n",
    "        if h % 2 == 0 and h > 4:\n",
    "            ksp_list.append((4, 2, 1))\n",
    "            determine(h // 2)\n",
    "        elif h % 2 == 0 and h == 4:\n",
    "            ksp_list.append((4, 1, 0))\n",
    "        elif h % 2 == 1 and h > 3:\n",
    "            ksp_list.append((3, 2, 0))\n",
    "            determine(h // 2)\n",
    "        elif h % 2 == 1 and h == 3:\n",
    "            ksp_list.append((3, 1, 0))\n",
    "        else:\n",
    "            raise ValueError(f\"Invalid height: {h}\")\n",
    "\n",
    "    determine(h)\n",
    "\n",
    "    return ksp_list"
   ]
  },
  {
   "cell_type": "code",
   "execution_count": 7,
   "metadata": {},
   "outputs": [],
   "source": [
    "a = determine_ksp((111, 111))"
   ]
  },
  {
   "cell_type": "code",
   "execution_count": 11,
   "metadata": {},
   "outputs": [],
   "source": [
    "b = [i for i in range(len(a))]"
   ]
  },
  {
   "cell_type": "code",
   "execution_count": 12,
   "metadata": {},
   "outputs": [
    {
     "data": {
      "text/plain": [
       "[0, 1, 2, 3, 4, 5]"
      ]
     },
     "execution_count": 12,
     "metadata": {},
     "output_type": "execute_result"
    }
   ],
   "source": [
    "b"
   ]
  },
  {
   "cell_type": "code",
   "execution_count": 13,
   "metadata": {},
   "outputs": [
    {
     "data": {
      "text/plain": [
       "[(3, 2, 0), (3, 2, 0), (3, 2, 0), (3, 2, 0), (4, 2, 1), (3, 1, 0)]"
      ]
     },
     "execution_count": 13,
     "metadata": {},
     "output_type": "execute_result"
    }
   ],
   "source": [
    "a"
   ]
  },
  {
   "cell_type": "code",
   "execution_count": 17,
   "metadata": {},
   "outputs": [
    {
     "name": "stdout",
     "output_type": "stream",
     "text": [
      "0 (3, 2, 0)\n",
      "1 (3, 2, 0)\n",
      "2 (3, 2, 0)\n",
      "3 (3, 2, 0)\n",
      "4 (4, 2, 1)\n",
      "5 (3, 1, 0)\n"
     ]
    }
   ],
   "source": [
    "for i, c in zip(b, a):\n",
    "    print(i, c)"
   ]
  },
  {
   "cell_type": "code",
   "execution_count": 19,
   "metadata": {},
   "outputs": [],
   "source": [
    "e = reversed(a)"
   ]
  },
  {
   "cell_type": "code",
   "execution_count": 21,
   "metadata": {},
   "outputs": [
    {
     "name": "stdout",
     "output_type": "stream",
     "text": [
      "(3, 1, 0)\n",
      "(4, 2, 1)\n",
      "(3, 2, 0)\n",
      "(3, 2, 0)\n",
      "(3, 2, 0)\n",
      "(3, 2, 0)\n"
     ]
    }
   ],
   "source": [
    "for i in e:\n",
    "    print(i)"
   ]
  },
  {
   "cell_type": "code",
   "execution_count": 26,
   "metadata": {},
   "outputs": [],
   "source": [
    "a.reverse()"
   ]
  },
  {
   "cell_type": "code",
   "execution_count": 27,
   "metadata": {},
   "outputs": [
    {
     "data": {
      "text/plain": [
       "[(3, 1, 0), (4, 2, 1), (3, 2, 0), (3, 2, 0), (3, 2, 0), (3, 2, 0)]"
      ]
     },
     "execution_count": 27,
     "metadata": {},
     "output_type": "execute_result"
    }
   ],
   "source": [
    "a"
   ]
  },
  {
   "cell_type": "code",
   "execution_count": null,
   "metadata": {},
   "outputs": [],
   "source": []
  }
 ],
 "metadata": {
  "kernelspec": {
   "display_name": "Python 3",
   "language": "python",
   "name": "python3"
  },
  "language_info": {
   "codemirror_mode": {
    "name": "ipython",
    "version": 3
   },
   "file_extension": ".py",
   "mimetype": "text/x-python",
   "name": "python",
   "nbconvert_exporter": "python",
   "pygments_lexer": "ipython3",
   "version": "3.10.6"
  },
  "orig_nbformat": 4
 },
 "nbformat": 4,
 "nbformat_minor": 2
}
