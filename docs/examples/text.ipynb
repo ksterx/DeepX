{
 "cells": [
  {
   "cell_type": "code",
   "execution_count": 1,
   "metadata": {},
   "outputs": [],
   "source": [
    "from torchtext.datasets import WikiText103\n",
    "import torchtext\n"
   ]
  },
  {
   "cell_type": "code",
   "execution_count": 2,
   "metadata": {},
   "outputs": [],
   "source": [
    "data = WikiText103(root=\"../../data/\", split=(\"train\", \"valid\", \"test\"))"
   ]
  },
  {
   "cell_type": "code",
   "execution_count": 3,
   "metadata": {},
   "outputs": [],
   "source": [
    "train = data[0]\n"
   ]
  },
  {
   "cell_type": "code",
   "execution_count": null,
   "metadata": {},
   "outputs": [],
   "source": []
  },
  {
   "cell_type": "code",
   "execution_count": 4,
   "metadata": {},
   "outputs": [
    {
     "name": "stdout",
     "output_type": "stream",
     "text": [
      " \n",
      "\n",
      " = Valkyria Chronicles III = \n",
      "\n",
      " \n",
      "\n",
      " Senjō no Valkyria 3 : <unk> Chronicles ( Japanese : 戦場のヴァルキュリア3 , lit . Valkyria of the Battlefield 3 ) , commonly referred to as Valkyria Chronicles III outside Japan , is a tactical role @-@ playing video game developed by Sega and Media.Vision for the PlayStation Portable . Released in January 2011 in Japan , it is the third game in the Valkyria series . Employing the same fusion of tactical and real @-@ time gameplay as its predecessors , the story runs parallel to the first game and follows the \" Nameless \" , a penal military unit serving the nation of Gallia during the Second Europan War who perform secret black operations and are pitted against the Imperial unit \" <unk> Raven \" . \n",
      "\n",
      " The game began development in 2010 , carrying over a large portion of the work done on Valkyria Chronicles II . While it retained the standard features of the series , it also underwent multiple adjustments , such as making the game more forgiving for series newcomers . Character designer <unk> Honjou and composer Hitoshi Sakimoto both returned from previous entries , along with Valkyria Chronicles II director Takeshi Ozawa . A large team of writers handled the script . The game 's opening theme was sung by May 'n . \n",
      "\n",
      " It met with positive sales in Japan , and was praised by both Japanese and western critics . After release , it received downloadable content , along with an expanded edition in November of that year . It was also adapted into manga and an original video animation series . Due to low sales of Valkyria Chronicles II , Valkyria Chronicles III was not localized , but a fan translation compatible with the game 's expanded edition was released in 2014 . Media.Vision would return to the franchise with the development of Valkyria : Azure Revolution for the PlayStation 4 . \n",
      "\n",
      " \n",
      "\n",
      " = = Gameplay = = \n",
      "\n",
      " \n",
      "\n",
      " As with previous <unk> Chronicles games , Valkyria Chronicles III is a tactical role @-@ playing game where players take control of a military unit and take part in missions against enemy forces . Stories are told through comic book @-@ like panels with animated character portraits , with characters speaking partially through voiced speech bubbles and partially through unvoiced text . The player progresses through a series of linear missions , gradually unlocked as maps that can be freely scanned through and replayed as they are unlocked . The route to each story location on the map varies depending on an individual player 's approach : when one option is selected , the other is sealed off to the player . Outside missions , the player characters rest in a camp , where units can be customized and character growth occurs . Alongside the main story missions are character @-@ specific sub missions relating to different squad members . After the game 's completion , additional episodes are unlocked , some of them having a higher difficulty than those found in the rest of the game . There are also love simulation elements related to the game 's two main heroines , although they take a very minor role . \n",
      "\n",
      " The game 's battle system , the <unk> system , is carried over directly from <unk> Chronicles . During missions , players select each unit using a top @-@ down perspective of the battlefield map : once a character is selected , the player moves the character around the battlefield in third @-@ person . A character can only act once per @-@ turn , but characters can be granted multiple turns at the expense of other characters ' turns . Each character has a field and distance of movement limited by their Action Gauge . Up to nine characters can be assigned to a single mission . During gameplay , characters will call out if something happens to them , such as their health points ( HP ) getting low or being knocked out by enemy attacks . Each character has specific \" Potentials \" , skills unique to each character . They are divided into \" Personal Potential \" , which are innate skills that remain unaltered unless otherwise dictated by the story and can either help or impede a character , and \" Battle Potentials \" , which are grown throughout the game and always grant boons to a character . To learn Battle Potentials , each character has a unique \" Masters Table \" , a grid @-@ based skill table that can be used to acquire and link different skills . Characters also have Special Abilities that grant them temporary boosts on the battlefield : Kurt can activate \" Direct Command \" and move around the battlefield without depleting his Action Point gauge , the character <unk> can shift into her \" Valkyria Form \" and become invincible , while Imca can target multiple enemy units with her heavy weapon . \n",
      "\n",
      " Troops are divided into five classes : Scouts , <unk> , Engineers , Lancers and Armored Soldier . Troopers can switch classes by changing their assigned weapon . Changing class does not greatly affect the stats gained while in a previous class . With victory in battle , experience points are awarded to the squad , which are distributed into five different attributes shared by the entire squad , a feature differing from early games ' method of distributing to different unit types . \n",
      "\n",
      " \n",
      "\n",
      " = = Plot = = \n",
      "\n",
      " \n",
      "\n",
      " The game takes place during the Second Europan War . Gallian Army Squad 422 , also known as \" The Nameless \" , are a penal military unit composed of criminals , foreign deserters , and military offenders whose real names are erased from the records and thereon officially referred to by numbers . Ordered by the Gallian military to perform the most dangerous missions that the Regular Army and Militia will not do , they are nevertheless up to the task , exemplified by their motto , <unk> <unk> , meaning \" Always Ready . \" The three main characters are No.7 Kurt Irving , an army officer falsely accused of treason who wishes to redeem himself ; Ace No.1 Imca , a female Darcsen heavy weapons specialist who seeks revenge against the Valkyria who destroyed her home ; and No.13 Riela <unk> , a seemingly jinxed young woman who is unknowingly a descendant of the Valkyria . Together with their fellow squad members , these three are tasked to fight against a mysterious Imperial unit known as Calamity Raven , consisting of mostly Darcsen soldiers . \n",
      "\n",
      " As the Nameless officially do not exist , the upper echelons of the Gallian Army exploit the concept of plausible deniability in order to send them on missions that would otherwise make Gallia lose face in the war . While at times this works to their advantage , such as a successful incursion into Imperial territory , other orders cause certain members of the 422nd great distress . One such member , <unk> , becomes so enraged that he abandons his post and defects into the ranks of Calamity Raven , attached to the ideal of Darcsen independence proposed by their leader , Dahau . At the same time , elements within Gallian Army Command move to erase the Nameless in order to protect their own interests . Hounded by both allies and enemies , and combined with the presence of a traitor within their ranks , the 422nd desperately move to keep themselves alive while at the same time fight to help the Gallian war effort . This continues until the Nameless 's commanding officer , Ramsey Crowe , who had been kept under house arrest , is escorted to the capital city of <unk> in order to present evidence exonerating the weary soldiers and expose the real traitor , the Gallian General that had accused Kurt of Treason . \n",
      "\n"
     ]
    }
   ],
   "source": [
    "for i, t in enumerate(train):\n",
    "    print(t)\n",
    "    if i > 15:\n",
    "        break\n"
   ]
  },
  {
   "cell_type": "code",
   "execution_count": 5,
   "metadata": {},
   "outputs": [],
   "source": [
    "import spacy\n"
   ]
  },
  {
   "cell_type": "code",
   "execution_count": 6,
   "metadata": {},
   "outputs": [],
   "source": [
    "nlp = spacy.load(\"en_core_web_sm\")\n"
   ]
  },
  {
   "cell_type": "code",
   "execution_count": 8,
   "metadata": {},
   "outputs": [],
   "source": [
    "doc = nlp(t)\n"
   ]
  },
  {
   "cell_type": "code",
   "execution_count": 11,
   "metadata": {},
   "outputs": [
    {
     "name": "stdout",
     "output_type": "stream",
     "text": [
      "  SPACE dep\n",
      "As SCONJ mark\n",
      "the DET det\n",
      "Nameless PROPN nsubj\n",
      "officially ADV advmod\n",
      "do AUX aux\n",
      "not PART neg\n",
      "exist VERB advcl\n",
      ", PUNCT punct\n",
      "the DET det\n",
      "upper ADJ amod\n",
      "echelons NOUN nsubj\n",
      "of ADP prep\n",
      "the DET det\n",
      "Gallian ADJ compound\n",
      "Army PROPN pobj\n",
      "exploit VERB ROOT\n",
      "the DET det\n",
      "concept NOUN dobj\n",
      "of ADP prep\n",
      "plausible ADJ amod\n",
      "deniability NOUN pobj\n",
      "in ADP prep\n",
      "order NOUN pobj\n",
      "to PART aux\n",
      "send VERB acl\n",
      "them PRON dobj\n",
      "on ADP prep\n",
      "missions NOUN pobj\n",
      "that PRON nsubj\n",
      "would AUX aux\n",
      "otherwise ADV advmod\n",
      "make VERB relcl\n",
      "Gallia PROPN nsubj\n",
      "lose VERB ccomp\n",
      "face NOUN dobj\n",
      "in ADP prep\n",
      "the DET det\n",
      "war NOUN pobj\n",
      ". PUNCT punct\n",
      "While SCONJ mark\n",
      "at ADP prep\n",
      "times NOUN pobj\n",
      "this PRON nsubj\n",
      "works VERB advcl\n",
      "to ADP prep\n",
      "their PRON poss\n",
      "advantage NOUN pobj\n",
      ", PUNCT punct\n",
      "such ADJ amod\n",
      "as ADP prep\n",
      "a DET det\n",
      "successful ADJ amod\n",
      "incursion NOUN pobj\n",
      "into ADP prep\n",
      "Imperial ADJ amod\n",
      "territory NOUN pobj\n",
      ", PUNCT punct\n",
      "other ADJ amod\n",
      "orders NOUN nsubj\n",
      "cause VERB ROOT\n",
      "certain ADJ amod\n",
      "members NOUN dobj\n",
      "of ADP prep\n",
      "the DET det\n",
      "422nd PROPN nmod\n",
      "great ADJ amod\n",
      "distress NOUN pobj\n",
      ". PUNCT punct\n",
      "One NUM nummod\n",
      "such ADJ amod\n",
      "member NOUN nsubj\n",
      ", PUNCT punct\n",
      "< X appos\n",
      "unk X appos\n",
      "> X appos\n",
      ", PUNCT punct\n",
      "becomes VERB ROOT\n",
      "so ADV advmod\n",
      "enraged ADJ acomp\n",
      "that SCONJ mark\n",
      "he PRON nsubj\n",
      "abandons VERB ccomp\n",
      "his PRON poss\n",
      "post NOUN dobj\n",
      "and CCONJ cc\n",
      "defects NOUN conj\n",
      "into ADP prep\n",
      "the DET det\n",
      "ranks NOUN pobj\n",
      "of ADP prep\n",
      "Calamity PROPN compound\n",
      "Raven PROPN pobj\n",
      ", PUNCT punct\n",
      "attached VERB advcl\n",
      "to ADP prep\n",
      "the DET det\n",
      "ideal NOUN pobj\n",
      "of ADP prep\n",
      "Darcsen PROPN compound\n",
      "independence NOUN pobj\n",
      "proposed VERB acl\n",
      "by ADP agent\n",
      "their PRON poss\n",
      "leader NOUN pobj\n",
      ", PUNCT punct\n",
      "Dahau PROPN appos\n",
      ". PUNCT punct\n",
      "At ADP prep\n",
      "the DET det\n",
      "same ADJ amod\n",
      "time NOUN pobj\n",
      ", PUNCT punct\n",
      "elements NOUN nsubj\n",
      "within ADP prep\n",
      "Gallian PROPN compound\n",
      "Army PROPN compound\n",
      "Command PROPN pobj\n",
      "move VERB ROOT\n",
      "to PART aux\n",
      "erase VERB advcl\n",
      "the DET det\n",
      "Nameless NOUN dobj\n",
      "in ADP prep\n",
      "order NOUN pobj\n",
      "to PART aux\n",
      "protect VERB acl\n",
      "their PRON poss\n",
      "own ADJ amod\n",
      "interests NOUN dobj\n",
      ". PUNCT punct\n",
      "Hounded VERB advcl\n",
      "by ADP agent\n",
      "both DET det\n",
      "allies NOUN pobj\n",
      "and CCONJ cc\n",
      "enemies NOUN conj\n",
      ", PUNCT punct\n",
      "and CCONJ cc\n",
      "combined VERB conj\n",
      "with ADP prep\n",
      "the DET det\n",
      "presence NOUN pobj\n",
      "of ADP prep\n",
      "a DET det\n",
      "traitor NOUN pobj\n",
      "within ADP prep\n",
      "their PRON poss\n",
      "ranks NOUN pobj\n",
      ", PUNCT punct\n",
      "the DET det\n",
      "422nd NOUN nsubj\n",
      "desperately ADV advmod\n",
      "move VERB ROOT\n",
      "to PART aux\n",
      "keep VERB advcl\n",
      "themselves PRON dobj\n",
      "alive ADJ oprd\n",
      "while SCONJ mark\n",
      "at ADP prep\n",
      "the DET det\n",
      "same ADJ amod\n",
      "time NOUN pobj\n",
      "fight NOUN advcl\n",
      "to PART aux\n",
      "help VERB xcomp\n",
      "the DET det\n",
      "Gallian ADJ amod\n",
      "war NOUN compound\n",
      "effort NOUN dobj\n",
      ". PUNCT punct\n",
      "This PRON nsubj\n",
      "continues VERB ROOT\n",
      "until SCONJ mark\n",
      "the DET det\n",
      "Nameless PROPN poss\n",
      "'s PART case\n",
      "commanding VERB amod\n",
      "officer NOUN nsubjpass\n",
      ", PUNCT punct\n",
      "Ramsey PROPN compound\n",
      "Crowe PROPN appos\n",
      ", PUNCT punct\n",
      "who PRON nsubjpass\n",
      "had AUX aux\n",
      "been AUX auxpass\n",
      "kept VERB relcl\n",
      "under ADP prep\n",
      "house NOUN compound\n",
      "arrest NOUN pobj\n",
      ", PUNCT punct\n",
      "is AUX auxpass\n",
      "escorted VERB advcl\n",
      "to ADP prep\n",
      "the DET det\n",
      "capital NOUN compound\n",
      "city NOUN pobj\n",
      "of ADP prep\n",
      "< X pobj\n",
      "unk X pobj\n",
      "> X dep\n",
      "in ADP prep\n",
      "order NOUN pobj\n",
      "to PART aux\n",
      "present VERB acl\n",
      "evidence NOUN dobj\n",
      "exonerating VERB acl\n",
      "the DET det\n",
      "weary ADJ amod\n",
      "soldiers NOUN dobj\n",
      "and CCONJ cc\n",
      "expose VERB conj\n",
      "the DET det\n",
      "real ADJ amod\n",
      "traitor NOUN dobj\n",
      ", PUNCT punct\n",
      "the DET det\n",
      "Gallian PROPN compound\n",
      "General PROPN appos\n",
      "that PRON nsubj\n",
      "had AUX aux\n",
      "accused VERB relcl\n",
      "Kurt PROPN dobj\n",
      "of ADP prep\n",
      "Treason PROPN pobj\n",
      ". PUNCT punct\n",
      "\n",
      " SPACE dep\n"
     ]
    }
   ],
   "source": [
    "for token in doc:\n",
    "    print(token.text, token.pos_, token.dep_)\n"
   ]
  },
  {
   "cell_type": "code",
   "execution_count": 22,
   "metadata": {},
   "outputs": [],
   "source": [
    "from transformers import AutoTokenizer\n"
   ]
  },
  {
   "cell_type": "code",
   "execution_count": 29,
   "metadata": {},
   "outputs": [
    {
     "data": {
      "application/vnd.jupyter.widget-view+json": {
       "model_id": "c2924614833645979cc401c50e8abcd9",
       "version_major": 2,
       "version_minor": 0
      },
      "text/plain": [
       "Downloading (…)okenizer_config.json:   0%|          | 0.00/29.0 [00:00<?, ?B/s]"
      ]
     },
     "metadata": {},
     "output_type": "display_data"
    },
    {
     "data": {
      "application/vnd.jupyter.widget-view+json": {
       "model_id": "a73ed06646e747d5b4bd298602527fc0",
       "version_major": 2,
       "version_minor": 0
      },
      "text/plain": [
       "Downloading (…)lve/main/config.json:   0%|          | 0.00/570 [00:00<?, ?B/s]"
      ]
     },
     "metadata": {},
     "output_type": "display_data"
    },
    {
     "data": {
      "application/vnd.jupyter.widget-view+json": {
       "model_id": "11c5a129afc248c784ffc665f2f5480a",
       "version_major": 2,
       "version_minor": 0
      },
      "text/plain": [
       "Downloading (…)solve/main/vocab.txt:   0%|          | 0.00/213k [00:00<?, ?B/s]"
      ]
     },
     "metadata": {},
     "output_type": "display_data"
    },
    {
     "data": {
      "application/vnd.jupyter.widget-view+json": {
       "model_id": "0b0ef732c3274b6390ddb59e29ea2e12",
       "version_major": 2,
       "version_minor": 0
      },
      "text/plain": [
       "Downloading (…)/main/tokenizer.json:   0%|          | 0.00/436k [00:00<?, ?B/s]"
      ]
     },
     "metadata": {},
     "output_type": "display_data"
    }
   ],
   "source": [
    "tokenizer = AutoTokenizer.from_pretrained(\"bert-base-cased\")\n"
   ]
  },
  {
   "cell_type": "code",
   "execution_count": 30,
   "metadata": {},
   "outputs": [],
   "source": [
    "enc_text = tokenizer(\"Hello, this one sentence!\")\n"
   ]
  },
  {
   "cell_type": "code",
   "execution_count": 31,
   "metadata": {},
   "outputs": [
    {
     "data": {
      "text/plain": [
       "'[CLS] Hello, this one sentence! [SEP]'"
      ]
     },
     "execution_count": 31,
     "metadata": {},
     "output_type": "execute_result"
    }
   ],
   "source": [
    "tokenizer.decode(\n",
    "    enc_text[\"input_ids\"],\n",
    ")"
   ]
  },
  {
   "cell_type": "code",
   "execution_count": 19,
   "metadata": {},
   "outputs": [
    {
     "data": {
      "text/plain": [
       "[101, 7592, 1010, 2023, 2028, 6251, 999, 102]"
      ]
     },
     "execution_count": 19,
     "metadata": {},
     "output_type": "execute_result"
    }
   ],
   "source": [
    "tokenizer.encode(\"Hello, this one sentence!\")\n"
   ]
  },
  {
   "cell_type": "code",
   "execution_count": null,
   "metadata": {},
   "outputs": [],
   "source": []
  }
 ],
 "metadata": {
  "kernelspec": {
   "display_name": "ai",
   "language": "python",
   "name": "python3"
  },
  "language_info": {
   "codemirror_mode": {
    "name": "ipython",
    "version": 3
   },
   "file_extension": ".py",
   "mimetype": "text/x-python",
   "name": "python",
   "nbconvert_exporter": "python",
   "pygments_lexer": "ipython3",
   "version": "3.10.6"
  },
  "orig_nbformat": 4
 },
 "nbformat": 4,
 "nbformat_minor": 2
}
