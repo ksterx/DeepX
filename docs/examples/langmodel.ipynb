{
 "cells": [
  {
   "cell_type": "code",
   "execution_count": 1,
   "metadata": {},
   "outputs": [
    {
     "name": "stdout",
     "output_type": "stream",
     "text": [
      "NOTE! Installing ujson may make loading annotations faster.\n"
     ]
    }
   ],
   "source": [
    "from deepx.trainers import LangModelTrainer\n"
   ]
  },
  {
   "cell_type": "code",
   "execution_count": 2,
   "metadata": {},
   "outputs": [
    {
     "name": "stderr",
     "output_type": "stream",
     "text": [
      "Trainer already configured with model summary callbacks: [<class 'lightning.pytorch.callbacks.model_summary.ModelSummary'>]. Skipping setting a default `ModelSummary` callback.\n",
      "GPU available: True (cuda), used: True\n",
      "TPU available: False, using: 0 TPU cores\n",
      "IPU available: False, using: 0 IPUs\n",
      "HPU available: False, using: 0 HPUs\n",
      "Running in `fast_dev_run` mode: will run the requested loop using 1 batch(es). Logging and checkpointing is suppressed.\n"
     ]
    },
    {
     "name": "stdout",
     "output_type": "stream",
     "text": [
      "model: LangModelTransformer(\n",
      "  (embed): Embedding(30522, 512)\n",
      "  (pe): PositionalEncoding(\n",
      "    (dropout): Dropout(p=0.0, inplace=False)\n",
      "  )\n",
      "  (blocks): ModuleList(\n",
      "    (0-5): 6 x TransformerEncoderBlock(\n",
      "      (attention): MultiHeadSelfAttention(\n",
      "        (dropout): Dropout(p=0.0, inplace=False)\n",
      "        (heads): ModuleList(\n",
      "          (0-7): 8 x Attention(\n",
      "            (dropout): Dropout(p=0.0, inplace=False)\n",
      "            (w_q): Linear(in_features=512, out_features=64, bias=False)\n",
      "            (w_k): Linear(in_features=512, out_features=64, bias=False)\n",
      "            (w_v): Linear(in_features=512, out_features=64, bias=False)\n",
      "          )\n",
      "        )\n",
      "        (fc): Linear(in_features=512, out_features=512, bias=True)\n",
      "        (relu): ReLU()\n",
      "      )\n",
      "      (dropout): Dropout(p=0.0, inplace=False)\n",
      "      (norm1): LayerNorm((512,), eps=1e-05, elementwise_affine=True)\n",
      "      (fc): MLP(\n",
      "        (layers): ModuleList(\n",
      "          (0): Linear(in_features=512, out_features=2048, bias=True)\n",
      "          (1): Linear(in_features=2048, out_features=512, bias=True)\n",
      "        )\n",
      "        (activation): GELU(approximate='none')\n",
      "        (dropout): Dropout(p=0.0, inplace=False)\n",
      "      )\n",
      "      (norm2): LayerNorm((512,), eps=1e-05, elementwise_affine=True)\n",
      "    )\n",
      "  )\n",
      "  (head): Linear(in_features=512, out_features=30522, bias=True)\n",
      ")\n",
      "datamodule: penn\n",
      "batch_size: 32\n",
      "train_ratio: 0.8\n",
      "lr: 0.001\n",
      "loss_fn: CrossEntropyLoss()\n",
      "optimizer: adam\n",
      "data_dir: /workspace/data\n",
      "num_workers: 2\n",
      "download: False\n",
      "tokenizer: BertTokenizerFast(name_or_path='bert-base-uncased', vocab_size=30522, model_max_length=512, is_fast=True, padding_side='right', truncation_side='right', special_tokens={'unk_token': '[UNK]', 'sep_token': '[SEP]', 'pad_token': '[PAD]', 'cls_token': '[CLS]', 'mask_token': '[MASK]'}, clean_up_tokenization_spaces=True)\n",
      "max_length: 32\n",
      "vocab_size: 30522\n",
      "embed_dim: 512\n",
      "num_heads: 8\n",
      "hidden_dim: 2048\n",
      "num_blocks: 6\n",
      "dropout: 0.0\n",
      "epochs: 2\n",
      "stopping_patience: 5\n",
      "ckpt_path: None\n"
     ]
    },
    {
     "name": "stderr",
     "output_type": "stream",
     "text": [
      "LOCAL_RANK: 0 - CUDA_VISIBLE_DEVICES: [0]\n",
      "\n",
      "  | Name      | Type                 | Params\n",
      "---------------------------------------------------\n",
      "0 | model     | LangModelTransformer | 50.2 M\n",
      "1 | loss_fn   | CrossEntropyLoss     | 0     \n",
      "2 | train_acc | MulticlassAccuracy   | 0     \n",
      "3 | val_acc   | MulticlassAccuracy   | 0     \n",
      "4 | test_acc  | MulticlassAccuracy   | 0     \n",
      "---------------------------------------------------\n",
      "50.2 M    Trainable params\n",
      "0         Non-trainable params\n",
      "50.2 M    Total params\n",
      "200.761   Total estimated model params size (MB)\n",
      "/usr/local/lib/python3.10/dist-packages/lightning/pytorch/trainer/connectors/data_connector.py:432: PossibleUserWarning: The dataloader, train_dataloader, does not have many workers which may be a bottleneck. Consider increasing the value of the `num_workers` argument` (try 20 which is the number of cpus on this machine) in the `DataLoader` init to improve performance.\n",
      "  rank_zero_warn(\n",
      "/usr/local/lib/python3.10/dist-packages/lightning/pytorch/loops/fit_loop.py:280: PossibleUserWarning: The number of training batches (1) is smaller than the logging interval Trainer(log_every_n_steps=50). Set a lower value for log_every_n_steps if you want to see logs for the training epoch.\n",
      "  rank_zero_warn(\n",
      "/usr/local/lib/python3.10/dist-packages/lightning/pytorch/trainer/connectors/data_connector.py:432: PossibleUserWarning: The dataloader, val_dataloader, does not have many workers which may be a bottleneck. Consider increasing the value of the `num_workers` argument` (try 20 which is the number of cpus on this machine) in the `DataLoader` init to improve performance.\n",
      "  rank_zero_warn(\n"
     ]
    },
    {
     "data": {
      "application/vnd.jupyter.widget-view+json": {
       "model_id": "1c851f09076648ea886125f4498477cf",
       "version_major": 2,
       "version_minor": 0
      },
      "text/plain": [
       "Training: 0it [00:00, ?it/s]"
      ]
     },
     "metadata": {},
     "output_type": "display_data"
    },
    {
     "data": {
      "application/vnd.jupyter.widget-view+json": {
       "model_id": "187f2bc869124a4d9521baa1775a5297",
       "version_major": 2,
       "version_minor": 0
      },
      "text/plain": [
       "Validation: 0it [00:00, ?it/s]"
      ]
     },
     "metadata": {},
     "output_type": "display_data"
    },
    {
     "name": "stderr",
     "output_type": "stream",
     "text": [
      "`Trainer.fit` stopped: `max_steps=1` reached.\n"
     ]
    }
   ],
   "source": [
    "trainer = LangModelTrainer(model=\"lmtransformer\", datamodule=\"penn\", max_length=32)\n",
    "trainer.train(debug=True)\n"
   ]
  },
  {
   "cell_type": "code",
   "execution_count": null,
   "metadata": {},
   "outputs": [],
   "source": []
  }
 ],
 "metadata": {
  "kernelspec": {
   "display_name": "Python 3",
   "language": "python",
   "name": "python3"
  },
  "language_info": {
   "codemirror_mode": {
    "name": "ipython",
    "version": 3
   },
   "file_extension": ".py",
   "mimetype": "text/x-python",
   "name": "python",
   "nbconvert_exporter": "python",
   "pygments_lexer": "ipython3",
   "version": "3.10.6"
  },
  "orig_nbformat": 4
 },
 "nbformat": 4,
 "nbformat_minor": 2
}
